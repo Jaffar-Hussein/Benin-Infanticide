{
 "cells": [
  {
   "cell_type": "code",
   "execution_count": 4,
   "metadata": {},
   "outputs": [],
   "source": [
    "# Import pandas library\n",
    "import pandas as pd\n",
    "\n",
    "# Import numpy library for random numbers\n",
    "import numpy as np\n",
    "\n",
    "# Import random library for random choices\n",
    "import random"
   ]
  },
  {
   "attachments": {},
   "cell_type": "markdown",
   "metadata": {},
   "source": [
    "### Create a list of possible names , regions, etat_sanitaire and level of education "
   ]
  },
  {
   "cell_type": "code",
   "execution_count": 5,
   "metadata": {},
   "outputs": [],
   "source": [
    "names = [\n",
    "    \"Adjoua\",\n",
    "    \"Akissi\",\n",
    "    \"Alimatou\",\n",
    "    \"Aminatou\",\n",
    "    \"Assibi\",\n",
    "    \"Aziza\",\n",
    "    \"Bibi\",\n",
    "    \"Chantal\",\n",
    "    \"Djamila\",\n",
    "    \"Djeneba\",\n",
    "    \"Djenaba\",\n",
    "    \"Esther\",\n",
    "    \"Fanta\",\n",
    "    \"Fatim\",\n",
    "    \"Fifi\",\n",
    "    \"Hafsatou\",\n",
    "    \"Hortense\",\n",
    "    \"Kadiatou\",\n",
    "    \"Kankan\",\n",
    "    \"Kessia\",\n",
    "    \"Koudjoukou\",\n",
    "    \"Kpatcha\",\n",
    "    \"Lala\",\n",
    "    \"Larissa\",\n",
    "    \"Léocadie\",\n",
    "    \"Nadège\",\n",
    "    \"Odile\",\n",
    "    \"Rachida\",\n",
    "    \"Ramatoulaye\",\n",
    "    \"Zouleya\",\n",
    "]\n",
    "\n",
    "# Data from the UN article on Benin\n",
    "regions = {\n",
    "    \"Alibori\": 35,\n",
    "    \"Atakora\": 52,\n",
    "    \"Atlantique\": 268,\n",
    "    \"Borgou\": 136,\n",
    "    \"Collines\": 44,\n",
    "    \"Donga\": 36,\n",
    "    \"Kouffo\": 41,\n",
    "    \"Littoral\": 350,\n",
    "    \"Mono\": 61,\n",
    "    \"Ouémé\": 254,\n",
    "    \"Plateau\": 48,\n",
    "    \"Zou\": 82,\n",
    "}\n",
    "\n",
    "# SGE data for 10,000 inhabitants\n",
    "regions_1000 = {\n",
    "    \"Alibori\": 0.4,\n",
    "    \"Atakora\": 0.6,\n",
    "    \"Atlantique\": 1.7,\n",
    "    \"Borgou\": 1.0,\n",
    "    \"Collines\": 0.6,\n",
    "    \"Donga\": 0.5,\n",
    "    \"Kouffo\": 0.6,\n",
    "    \"Littoral\": 4.6,\n",
    "    \"Mono\": 1.1,\n",
    "    \"Ouémé\": 2.1,\n",
    "    \"Plateau\": 0.7,\n",
    "    \"Zou\": 0.9,\n",
    "}\n",
    "conditions = [\n",
    "    \"Hémorragie du post-partum\",\n",
    "    \"Prééclampsie/Éclampsie\",\n",
    "    \"Infections\",\n",
    "    \"Travail obstrué\",\n",
    "    \"Avortement non sécurisé\",\n",
    "    \"Troubles hypertensifs (Préexistants)\",\n",
    "    \"Maladies préexistantes\",\n",
    "    \"Rupture de l'utérus\",\n",
    "]\n",
    "\n",
    "organisations = {\n",
    "    \"WiLDAF-Benin\": \"Women in Law and Development in Africa (WiLDAF-Benin)\",\n",
    "    \"ABBEF\": \"Association Béninoise pour le Bien-Être Familial (ABBEF)\",\n",
    "    \"AFJB\": \"Association des Femmes Juristes du Bénin (AFJB)\",\n",
    "    \"CIFRAF\": \"Centre d'Information, de Formation, de Recherche et d'Assistance pour la Femme (CIFRAF)\",\n",
    "    \"AFCF\": \"Association des Femmes Chefs de Famille (AFCF)\",\n",
    "}\n",
    "\n",
    "hygiene = [\"Excellent\", \"Good\", \"Satisfactory\", \"Fair\", \"Poor\"]\n",
    "\n",
    "\n",
    "level_education = [\"without\", \"primary/secondaire\", \"bac\", \"postbac\", \"diplomé d'etat\"]"
   ]
  },
  {
   "attachments": {},
   "cell_type": "markdown",
   "metadata": {},
   "source": [
    "### Create data for Region table "
   ]
  },
  {
   "cell_type": "code",
   "execution_count": 12,
   "metadata": {},
   "outputs": [],
   "source": [
    "region_data = {\n",
    "    \"id\": list(range(1, len(regions) + 1)),\n",
    "    \"nom\": regions.keys(),\n",
    "    \"number_hospitals\": np.random.randint(5, 15, len(regions)),\n",
    "    \"access_water\": np.random.uniform(0.1, 1, len(regions)),\n",
    "    \"number_of_sage_femme\": regions.values(),\n",
    "    \"number_of_sage_femme_10000\": regions_1000.values(),\n",
    "    \"maternal_mortality_rate\": np.random.randint(20, 200, len(regions)),\n",
    "    \"access_to_education\": np.random.uniform(0.1, 1, len(regions)),\n",
    "}\n",
    "\n",
    "\n",
    "# Create a pandas dataframe from region_data\n",
    "region_df = pd.DataFrame(region_data)\n",
    "\n",
    "# Save the dataframe as a csv file\n",
    "region_df.to_csv(\"data/Region.csv\", index=False)"
   ]
  },
  {
   "attachments": {},
   "cell_type": "markdown",
   "metadata": {},
   "source": [
    "### Create data data for Staff table with 30 rows"
   ]
  },
  {
   "cell_type": "code",
   "execution_count": 7,
   "metadata": {},
   "outputs": [],
   "source": [
    "staff_data = {\n",
    "    \"id\": list(range(1, 31)),\n",
    "    \"organisations\": random.choices(list(organisations), k=30),\n",
    "}\n",
    "\n",
    "# Create a pandas dataframe from staff_data\n",
    "staff_df = pd.DataFrame(staff_data)\n",
    "\n",
    "# Save the dataframe as a csv file\n",
    "staff_df.to_csv(\"data/Staff.csv\", index=False)"
   ]
  },
  {
   "attachments": {},
   "cell_type": "markdown",
   "metadata": {},
   "source": [
    "### Create  data for Sage_Femme table with 30 rows"
   ]
  },
  {
   "cell_type": "code",
   "execution_count": 8,
   "metadata": {},
   "outputs": [],
   "source": [
    "sage_femme_data = {\n",
    "    \"id\": list(range(1, 31)),\n",
    "    \n",
    "    # Assume that there are 5 regions and assign them randomly to the sage femmes\n",
    "    \"code_region\": np.random.randint(1, 13, size=30),\n",
    "    # Assume that each sage femme has a name and assign them randomly\n",
    "    \"nom\": random.choices(names, k=30),\n",
    "    # Level of education for the sage femme\n",
    "    \"level_education\": random.choices(level_education, k=30),\n",
    "    # Assume that each sage femme has a hygiene rating and assign them randomly\n",
    "    \"hygiene\": random.choices(hygiene, k=30),\n",
    "    # Assume that each sage femme has a number of years of experience and assign them randomly\n",
    "    \"years_experience\": np.random.randint(1, 20, size=30),\n",
    "    # Assume that each sage femme has a history of number complications and assign them randomly\n",
    "    \"history_complications\": np.random.randint(1, 25, size=30),\n",
    "}\n",
    "\n",
    "# Create a pandas dataframe from sage_femme_data\n",
    "sage_femme_df = pd.DataFrame(sage_femme_data)\n",
    "\n",
    "# Save the dataframe as a csv file\n",
    "sage_femme_df.to_csv(\"data/Sage_Femme.csv\", index=False)"
   ]
  },
  {
   "attachments": {},
   "cell_type": "markdown",
   "metadata": {},
   "source": [
    "### Create  data for patient table with 30 rows"
   ]
  },
  {
   "cell_type": "code",
   "execution_count": 9,
   "metadata": {},
   "outputs": [],
   "source": [
    "patient_data = {\n",
    "    # Assume that there are 30 patients and assign them unique ids\n",
    "    \"id\": list(range(1, 31)),\n",
    "    # Choose random names from the names list\n",
    "    \"name\": random.choices(names, k=30),\n",
    "    # Choose random ages between 5 and 100\n",
    "    \"age\": np.random.randint(5, 101, size=30),\n",
    "    # Choose random number of children between 0 and 10\n",
    "    \"nombre_enfants\": np.random.randint(0, 11, size=30),\n",
    "}\n",
    "\n",
    "# Create a pandas dataframe from patient_data\n",
    "patient_df = pd.DataFrame(patient_data)\n",
    "\n",
    "# Save the dataframe as a csv file\n",
    "patient_df.to_csv(\"data/Patient.csv\", index=False)"
   ]
  },
  {
   "attachments": {},
   "cell_type": "markdown",
   "metadata": {},
   "source": [
    "### Create data for Evenement table with 30 rows"
   ]
  },
  {
   "cell_type": "code",
   "execution_count": 10,
   "metadata": {},
   "outputs": [],
   "source": [
    "evenement_data = {\n",
    "    # Assume that there are 30 events and assign them unique ids\n",
    "    \"id\": list(range(1, 31)),\n",
    "    # Choose random patients from the patient ids\n",
    "    \"code_patient\": np.random.randint(1, 31, size=30),\n",
    "    # Choose random sage femmes from the sage femme ids\n",
    "    \"code_sageFemme\": np.random.randint(1, 31, size=30),\n",
    "    # Choose random regions from the region ids\n",
    "    \"code_region\": np.random.randint(1, 13, size=30),\n",
    "    # Choose random dates between 2020-01-01 and 2020-12-31 in YYYY-MM-DD format\n",
    "    \"date\": pd.to_datetime(\n",
    "        np.random.randint(1577836800, 1609459200, size=30), unit=\"s\"\n",
    "    ).strftime(\"%Y-%m-%d\"),\n",
    "    # Choose random number of children between 0 and 5\n",
    "    \"nombre_enfants\": np.random.randint(0, 6, size=30),\n",
    "    # Choose random conditions from the conditions list\n",
    "    \"condition\": random.choices(conditions, k=30),\n",
    "    # Choose random time intervention between 10 and 120 minutes\n",
    "    \"time_intervention\": np.random.randint(10, 121, size=30),\n",
    "    # Choose random hygiene from the hygiene list\n",
    "    \"hygiene\": random.choices(hygiene, k=30),\n",
    "    # Use the same date as the created_at column\n",
    "    \"created_at\": pd.to_datetime(\n",
    "        np.random.randint(1577836800, 1609459200, size=30), unit=\"s\"\n",
    "    ).strftime(\"%Y-%m-%d\"),\n",
    "}\n",
    "\n",
    "# Create a pandas dataframe from evenement_data\n",
    "evenement_df = pd.DataFrame(evenement_data)\n",
    "\n",
    "# Save the dataframe as a csv file\n",
    "evenement_df.to_csv(\"data/Evenement.csv\", index=False)"
   ]
  }
 ],
 "metadata": {
  "kernelspec": {
   "display_name": "Python 3",
   "language": "python",
   "name": "python3"
  },
  "language_info": {
   "codemirror_mode": {
    "name": "ipython",
    "version": 3
   },
   "file_extension": ".py",
   "mimetype": "text/x-python",
   "name": "python",
   "nbconvert_exporter": "python",
   "pygments_lexer": "ipython3",
   "version": "3.10.1"
  },
  "orig_nbformat": 4
 },
 "nbformat": 4,
 "nbformat_minor": 2
}
