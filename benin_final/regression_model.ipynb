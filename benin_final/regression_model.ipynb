{
 "cells": [
  {
   "attachments": {},
   "cell_type": "markdown",
   "metadata": {},
   "source": [
    "### Machine Leanrning model to predict the level of education of midwives"
   ]
  },
  {
   "cell_type": "code",
   "execution_count": 3,
   "metadata": {},
   "outputs": [],
   "source": [
    "import numpy as np\n",
    "import pandas as pd\n",
    "import seaborn as sns"
   ]
  },
  {
   "attachments": {},
   "cell_type": "markdown",
   "metadata": {},
   "source": [
    "\n",
    "# Load the data into a DataFrame"
   ]
  },
  {
   "cell_type": "code",
   "execution_count": 17,
   "metadata": {},
   "outputs": [
    {
     "data": {
      "text/html": [
       "<div>\n",
       "<style scoped>\n",
       "    .dataframe tbody tr th:only-of-type {\n",
       "        vertical-align: middle;\n",
       "    }\n",
       "\n",
       "    .dataframe tbody tr th {\n",
       "        vertical-align: top;\n",
       "    }\n",
       "\n",
       "    .dataframe thead th {\n",
       "        text-align: right;\n",
       "    }\n",
       "</style>\n",
       "<table border=\"1\" class=\"dataframe\">\n",
       "  <thead>\n",
       "    <tr style=\"text-align: right;\">\n",
       "      <th></th>\n",
       "      <th>id</th>\n",
       "      <th>nom</th>\n",
       "      <th>number_hospitals</th>\n",
       "      <th>access_water</th>\n",
       "      <th>number_of_sage_femme</th>\n",
       "      <th>number_of_sage_femme_10000</th>\n",
       "      <th>maternal_mortality_rate</th>\n",
       "    </tr>\n",
       "  </thead>\n",
       "  <tbody>\n",
       "    <tr>\n",
       "      <th>0</th>\n",
       "      <td>1</td>\n",
       "      <td>Alibori</td>\n",
       "      <td>-1.930860</td>\n",
       "      <td>-2.242195</td>\n",
       "      <td>35</td>\n",
       "      <td>0.4</td>\n",
       "      <td>-0.758482</td>\n",
       "    </tr>\n",
       "    <tr>\n",
       "      <th>1</th>\n",
       "      <td>2</td>\n",
       "      <td>Atakora</td>\n",
       "      <td>-1.248338</td>\n",
       "      <td>-2.105968</td>\n",
       "      <td>52</td>\n",
       "      <td>0.6</td>\n",
       "      <td>-1.780424</td>\n",
       "    </tr>\n",
       "    <tr>\n",
       "      <th>2</th>\n",
       "      <td>3</td>\n",
       "      <td>Atlantique</td>\n",
       "      <td>-0.215511</td>\n",
       "      <td>-0.118300</td>\n",
       "      <td>268</td>\n",
       "      <td>1.7</td>\n",
       "      <td>0.658401</td>\n",
       "    </tr>\n",
       "    <tr>\n",
       "      <th>3</th>\n",
       "      <td>4</td>\n",
       "      <td>Borgou</td>\n",
       "      <td>-0.731085</td>\n",
       "      <td>-0.896597</td>\n",
       "      <td>136</td>\n",
       "      <td>1.0</td>\n",
       "      <td>-0.572411</td>\n",
       "    </tr>\n",
       "    <tr>\n",
       "      <th>4</th>\n",
       "      <td>5</td>\n",
       "      <td>Collines</td>\n",
       "      <td>-1.157740</td>\n",
       "      <td>-1.392813</td>\n",
       "      <td>44</td>\n",
       "      <td>0.6</td>\n",
       "      <td>-1.708263</td>\n",
       "    </tr>\n",
       "  </tbody>\n",
       "</table>\n",
       "</div>"
      ],
      "text/plain": [
       "   id         nom  number_hospitals  access_water  number_of_sage_femme  \\\n",
       "0   1     Alibori         -1.930860     -2.242195                    35   \n",
       "1   2     Atakora         -1.248338     -2.105968                    52   \n",
       "2   3  Atlantique         -0.215511     -0.118300                   268   \n",
       "3   4      Borgou         -0.731085     -0.896597                   136   \n",
       "4   5    Collines         -1.157740     -1.392813                    44   \n",
       "\n",
       "   number_of_sage_femme_10000  maternal_mortality_rate  \n",
       "0                         0.4                -0.758482  \n",
       "1                         0.6                -1.780424  \n",
       "2                         1.7                 0.658401  \n",
       "3                         1.0                -0.572411  \n",
       "4                         0.6                -1.708263  "
      ]
     },
     "metadata": {},
     "output_type": "display_data"
    }
   ],
   "source": [
    "sage_df = pd.read_csv(\"data/Sage_Femme.csv\")\n",
    "region_df = pd.read_csv(\"data/Region.csv\")\n",
    "# region_df = pd.read_csv(\"data/Region_with_correlated_data.csv\")\n",
    "display(region_df.head())"
   ]
  },
  {
   "cell_type": "code",
   "execution_count": 38,
   "metadata": {},
   "outputs": [
    {
     "name": "stdout",
     "output_type": "stream",
     "text": [
      "Accuracy: 0.3333333333333333\n"
     ]
    }
   ],
   "source": [
    "from sklearn.model_selection import train_test_split\n",
    "from sklearn.neighbors import KNeighborsClassifier\n",
    "\n",
    "# Convert the sage_femme_data dictionary into a numpy array\n",
    "data = np.array([sage_df[\"history_complications\"], sage_df[\"level_education\"]]).T\n",
    "\n",
    "# Split the data into input features (X) and output label (y)\n",
    "X = data[:, 0].reshape(-1, 1)\n",
    "y = data[:, 1]\n",
    "\n",
    "# Split the data into a training set and a test set\n",
    "X_train, X_test, y_train, y_test = train_test_split(X, y, test_size=0.2)\n",
    "\n",
    "\n",
    "# Choose the KNN algorithm and train a model on the training data\n",
    "clf = KNeighborsClassifier()\n",
    "clf.fit(X_train, y_train)\n",
    "\n",
    "# Make predictions on the test data and evaluate the model's performance\n",
    "y_pred = clf.predict(X_test)\n",
    "accuracy = np.mean(y_pred == y_test)\n",
    "print(f\"Accuracy: {accuracy}\")"
   ]
  },
  {
   "cell_type": "code",
   "execution_count": 23,
   "metadata": {},
   "outputs": [
    {
     "name": "stdout",
     "output_type": "stream",
     "text": [
      "[138.41 134.07 101.62]\n",
      "Root Mean Squared Error: 61.48337824160283\n"
     ]
    },
    {
     "data": {
      "image/png": "[encoded data removed]",
      "text/plain": [
       "<Figure size 432x288 with 2 Axes>"
      ]
     },
     "metadata": {
      "needs_background": "light"
     },
     "output_type": "display_data"
    }
   ],
   "source": [
    "from sklearn.model_selection import train_test_split\n",
    "from sklearn.ensemble import RandomForestRegressor\n",
    "from sklearn.metrics import mean_squared_error\n",
    "\n",
    "\n",
    "# Create a heatmap\n",
    "corr = region_df.corr()\n",
    "\n",
    "sns.heatmap(corr, cmap=\"coolwarm\", annot=True, center=0)\n",
    "\n",
    "\n",
    "# Define the features and target variable\n",
    "features = [\"number_of_sage_femme_10000\", \"number_hospitals\", \"access_water\"]\n",
    "target = \"maternal_mortality_rate\"\n",
    "\n",
    "# Split the data into training and test sets\n",
    "X_train, X_test, y_train, y_test = train_test_split(\n",
    "    region_df[features], region_df[target], test_size=0.2\n",
    ")\n",
    "\n",
    "# Create a random forest regressor\n",
    "model = RandomForestRegressor()\n",
    "\n",
    "# Train the model on the training data\n",
    "model.fit(X_train, y_train)\n",
    "\n",
    "# Make predictions on the test data\n",
    "y_pred = model.predict(X_test)\n",
    "print(y_pred)\n",
    "\n",
    "\n",
    "# Evaluate the model's performance\n",
    "mse = mean_squared_error(y_test, y_pred)\n",
    "rmse = np.sqrt(mse)\n",
    "print(f\"Root Mean Squared Error: {rmse}\")"
   ]
  }
 ],
 "metadata": {
  "kernelspec": {
   "display_name": "Python 3",
   "language": "python",
   "name": "python3"
  },
  "language_info": {
   "codemirror_mode": {
    "name": "ipython",
    "version": 3
   },
   "file_extension": ".py",
   "mimetype": "text/x-python",
   "name": "python",
   "nbconvert_exporter": "python",
   "pygments_lexer": "ipython3",
   "version": "3.10.1"
  },
  "orig_nbformat": 4
 },
 "nbformat": 4,
 "nbformat_minor": 2
}
